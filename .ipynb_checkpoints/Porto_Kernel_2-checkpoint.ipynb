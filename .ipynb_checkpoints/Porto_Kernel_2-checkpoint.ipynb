version https://git-lfs.github.com/spec/v1
oid sha256:d856305b16a86fafa1cd1f3ea46e89b41a85a494c599d698ec270c943444ea58
size 706617
