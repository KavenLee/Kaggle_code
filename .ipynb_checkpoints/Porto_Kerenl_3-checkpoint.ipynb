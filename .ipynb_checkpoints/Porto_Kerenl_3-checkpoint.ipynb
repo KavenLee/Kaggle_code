version https://git-lfs.github.com/spec/v1
oid sha256:f4b1730bb96910d4d8cdda7f4e9fdd1b1b3b3c87e9d3ab0835234fc4291631cd
size 24247
